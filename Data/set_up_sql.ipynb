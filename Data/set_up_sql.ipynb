{
 "cells": [
  {
   "cell_type": "code",
   "execution_count": 1,
   "metadata": {},
   "outputs": [],
   "source": [
    "import pandas as pd\n",
    "from sqlalchemy import create_engine"
   ]
  },
  {
   "cell_type": "code",
   "execution_count": 2,
   "metadata": {},
   "outputs": [],
   "source": [
    "df = pd.read_excel('products.xlsx')"
   ]
  },
  {
   "cell_type": "code",
   "execution_count": 3,
   "metadata": {},
   "outputs": [
    {
     "data": {
      "text/html": [
       "<div>\n",
       "<style scoped>\n",
       "    .dataframe tbody tr th:only-of-type {\n",
       "        vertical-align: middle;\n",
       "    }\n",
       "\n",
       "    .dataframe tbody tr th {\n",
       "        vertical-align: top;\n",
       "    }\n",
       "\n",
       "    .dataframe thead th {\n",
       "        text-align: right;\n",
       "    }\n",
       "</style>\n",
       "<table border=\"1\" class=\"dataframe\">\n",
       "  <thead>\n",
       "    <tr style=\"text-align: right;\">\n",
       "      <th></th>\n",
       "      <th>Base Product</th>\n",
       "      <th>Description</th>\n",
       "      <th>Date</th>\n",
       "      <th>Quantity</th>\n",
       "      <th>Variation Type</th>\n",
       "      <th>Variation Detail</th>\n",
       "      <th>Customisation Complexity</th>\n",
       "      <th>Material</th>\n",
       "      <th>Price</th>\n",
       "      <th>Country</th>\n",
       "    </tr>\n",
       "  </thead>\n",
       "  <tbody>\n",
       "    <tr>\n",
       "      <th>0</th>\n",
       "      <td>12 pencils tall tube</td>\n",
       "      <td>12 pencils tall tube skulls</td>\n",
       "      <td>2009-12-01</td>\n",
       "      <td>28</td>\n",
       "      <td>miscellaneous</td>\n",
       "      <td>miscellaneous: skulls</td>\n",
       "      <td>1</td>\n",
       "      <td>polymer</td>\n",
       "      <td>0.85</td>\n",
       "      <td>United Kingdom</td>\n",
       "    </tr>\n",
       "    <tr>\n",
       "      <th>1</th>\n",
       "      <td>12 pencils tall tube</td>\n",
       "      <td>12 pencils tall tube skulls</td>\n",
       "      <td>2009-12-02</td>\n",
       "      <td>25</td>\n",
       "      <td>miscellaneous</td>\n",
       "      <td>miscellaneous: skulls</td>\n",
       "      <td>1</td>\n",
       "      <td>polymer</td>\n",
       "      <td>0.85</td>\n",
       "      <td>United Kingdom</td>\n",
       "    </tr>\n",
       "    <tr>\n",
       "      <th>2</th>\n",
       "      <td>12 pencils tall tube</td>\n",
       "      <td>12 pencils tall tube skulls</td>\n",
       "      <td>2009-12-03</td>\n",
       "      <td>28</td>\n",
       "      <td>miscellaneous</td>\n",
       "      <td>miscellaneous: skulls</td>\n",
       "      <td>1</td>\n",
       "      <td>polymer</td>\n",
       "      <td>0.85</td>\n",
       "      <td>United Kingdom</td>\n",
       "    </tr>\n",
       "    <tr>\n",
       "      <th>3</th>\n",
       "      <td>12 pencils tall tube</td>\n",
       "      <td>12 pencils tall tube skulls</td>\n",
       "      <td>2009-12-04</td>\n",
       "      <td>79</td>\n",
       "      <td>miscellaneous</td>\n",
       "      <td>miscellaneous: skulls</td>\n",
       "      <td>1</td>\n",
       "      <td>polymer</td>\n",
       "      <td>0.85</td>\n",
       "      <td>United Kingdom</td>\n",
       "    </tr>\n",
       "    <tr>\n",
       "      <th>4</th>\n",
       "      <td>12 pencils tall tube</td>\n",
       "      <td>12 pencils tall tube skulls</td>\n",
       "      <td>2009-12-05</td>\n",
       "      <td>12</td>\n",
       "      <td>miscellaneous</td>\n",
       "      <td>miscellaneous: skulls</td>\n",
       "      <td>1</td>\n",
       "      <td>polymer</td>\n",
       "      <td>0.85</td>\n",
       "      <td>United Kingdom</td>\n",
       "    </tr>\n",
       "  </tbody>\n",
       "</table>\n",
       "</div>"
      ],
      "text/plain": [
       "           Base Product                  Description       Date  Quantity  \\\n",
       "0  12 pencils tall tube  12 pencils tall tube skulls 2009-12-01        28   \n",
       "1  12 pencils tall tube  12 pencils tall tube skulls 2009-12-02        25   \n",
       "2  12 pencils tall tube  12 pencils tall tube skulls 2009-12-03        28   \n",
       "3  12 pencils tall tube  12 pencils tall tube skulls 2009-12-04        79   \n",
       "4  12 pencils tall tube  12 pencils tall tube skulls 2009-12-05        12   \n",
       "\n",
       "  Variation Type       Variation Detail  Customisation Complexity Material  \\\n",
       "0  miscellaneous  miscellaneous: skulls                         1  polymer   \n",
       "1  miscellaneous  miscellaneous: skulls                         1  polymer   \n",
       "2  miscellaneous  miscellaneous: skulls                         1  polymer   \n",
       "3  miscellaneous  miscellaneous: skulls                         1  polymer   \n",
       "4  miscellaneous  miscellaneous: skulls                         1  polymer   \n",
       "\n",
       "   Price         Country  \n",
       "0   0.85  United Kingdom  \n",
       "1   0.85  United Kingdom  \n",
       "2   0.85  United Kingdom  \n",
       "3   0.85  United Kingdom  \n",
       "4   0.85  United Kingdom  "
      ]
     },
     "execution_count": 3,
     "metadata": {},
     "output_type": "execute_result"
    }
   ],
   "source": [
    "df.head()"
   ]
  },
  {
   "cell_type": "code",
   "execution_count": 4,
   "metadata": {},
   "outputs": [],
   "source": [
    "engine = create_engine('sqlite:///store_data.db', echo=False)"
   ]
  },
  {
   "cell_type": "code",
   "execution_count": 5,
   "metadata": {},
   "outputs": [
    {
     "name": "stderr",
     "output_type": "stream",
     "text": [
      "/var/folders/xb/pv_zrgf91qb8m1q7hw27nyt80000gp/T/ipykernel_24720/1473616780.py:4: UserWarning: pandas only supports SQLAlchemy connectable (engine/connection) or database string URI or sqlite3 DBAPI2 connection. Other DBAPI2 objects are not tested. Please consider using SQLAlchemy.\n",
      "  df.to_sql(table_name, connection, index = False, if_exists='replace')\n"
     ]
    },
    {
     "data": {
      "text/plain": [
       "128142"
      ]
     },
     "execution_count": 5,
     "metadata": {},
     "output_type": "execute_result"
    }
   ],
   "source": [
    "table_name = 'product_data'\n",
    "connection = engine.raw_connection()\n",
    "\n",
    "df.to_sql(table_name, connection, index = False, if_exists='replace')"
   ]
  },
  {
   "cell_type": "code",
   "execution_count": 6,
   "metadata": {},
   "outputs": [
    {
     "name": "stderr",
     "output_type": "stream",
     "text": [
      "/var/folders/xb/pv_zrgf91qb8m1q7hw27nyt80000gp/T/ipykernel_24720/2820234882.py:1: UserWarning: pandas only supports SQLAlchemy connectable (engine/connection) or database string URI or sqlite3 DBAPI2 connection. Other DBAPI2 objects are not tested. Please consider using SQLAlchemy.\n",
      "  result_df = pd.read_sql(\"SELECT * FROM product_data\", con=connection)\n"
     ]
    }
   ],
   "source": [
    "result_df = pd.read_sql(\"SELECT * FROM product_data\", con=connection)"
   ]
  },
  {
   "cell_type": "code",
   "execution_count": 7,
   "metadata": {},
   "outputs": [
    {
     "data": {
      "text/html": [
       "<div>\n",
       "<style scoped>\n",
       "    .dataframe tbody tr th:only-of-type {\n",
       "        vertical-align: middle;\n",
       "    }\n",
       "\n",
       "    .dataframe tbody tr th {\n",
       "        vertical-align: top;\n",
       "    }\n",
       "\n",
       "    .dataframe thead th {\n",
       "        text-align: right;\n",
       "    }\n",
       "</style>\n",
       "<table border=\"1\" class=\"dataframe\">\n",
       "  <thead>\n",
       "    <tr style=\"text-align: right;\">\n",
       "      <th></th>\n",
       "      <th>Base Product</th>\n",
       "      <th>Description</th>\n",
       "      <th>Date</th>\n",
       "      <th>Quantity</th>\n",
       "      <th>Variation Type</th>\n",
       "      <th>Variation Detail</th>\n",
       "      <th>Customisation Complexity</th>\n",
       "      <th>Material</th>\n",
       "      <th>Price</th>\n",
       "      <th>Country</th>\n",
       "    </tr>\n",
       "  </thead>\n",
       "  <tbody>\n",
       "    <tr>\n",
       "      <th>0</th>\n",
       "      <td>12 pencils tall tube</td>\n",
       "      <td>12 pencils tall tube skulls</td>\n",
       "      <td>2009-12-01 00:00:00</td>\n",
       "      <td>28</td>\n",
       "      <td>miscellaneous</td>\n",
       "      <td>miscellaneous: skulls</td>\n",
       "      <td>1</td>\n",
       "      <td>polymer</td>\n",
       "      <td>0.85</td>\n",
       "      <td>United Kingdom</td>\n",
       "    </tr>\n",
       "    <tr>\n",
       "      <th>1</th>\n",
       "      <td>12 pencils tall tube</td>\n",
       "      <td>12 pencils tall tube skulls</td>\n",
       "      <td>2009-12-02 00:00:00</td>\n",
       "      <td>25</td>\n",
       "      <td>miscellaneous</td>\n",
       "      <td>miscellaneous: skulls</td>\n",
       "      <td>1</td>\n",
       "      <td>polymer</td>\n",
       "      <td>0.85</td>\n",
       "      <td>United Kingdom</td>\n",
       "    </tr>\n",
       "    <tr>\n",
       "      <th>2</th>\n",
       "      <td>12 pencils tall tube</td>\n",
       "      <td>12 pencils tall tube skulls</td>\n",
       "      <td>2009-12-03 00:00:00</td>\n",
       "      <td>28</td>\n",
       "      <td>miscellaneous</td>\n",
       "      <td>miscellaneous: skulls</td>\n",
       "      <td>1</td>\n",
       "      <td>polymer</td>\n",
       "      <td>0.85</td>\n",
       "      <td>United Kingdom</td>\n",
       "    </tr>\n",
       "    <tr>\n",
       "      <th>3</th>\n",
       "      <td>12 pencils tall tube</td>\n",
       "      <td>12 pencils tall tube skulls</td>\n",
       "      <td>2009-12-04 00:00:00</td>\n",
       "      <td>79</td>\n",
       "      <td>miscellaneous</td>\n",
       "      <td>miscellaneous: skulls</td>\n",
       "      <td>1</td>\n",
       "      <td>polymer</td>\n",
       "      <td>0.85</td>\n",
       "      <td>United Kingdom</td>\n",
       "    </tr>\n",
       "    <tr>\n",
       "      <th>4</th>\n",
       "      <td>12 pencils tall tube</td>\n",
       "      <td>12 pencils tall tube skulls</td>\n",
       "      <td>2009-12-05 00:00:00</td>\n",
       "      <td>12</td>\n",
       "      <td>miscellaneous</td>\n",
       "      <td>miscellaneous: skulls</td>\n",
       "      <td>1</td>\n",
       "      <td>polymer</td>\n",
       "      <td>0.85</td>\n",
       "      <td>United Kingdom</td>\n",
       "    </tr>\n",
       "  </tbody>\n",
       "</table>\n",
       "</div>"
      ],
      "text/plain": [
       "           Base Product                  Description                 Date  \\\n",
       "0  12 pencils tall tube  12 pencils tall tube skulls  2009-12-01 00:00:00   \n",
       "1  12 pencils tall tube  12 pencils tall tube skulls  2009-12-02 00:00:00   \n",
       "2  12 pencils tall tube  12 pencils tall tube skulls  2009-12-03 00:00:00   \n",
       "3  12 pencils tall tube  12 pencils tall tube skulls  2009-12-04 00:00:00   \n",
       "4  12 pencils tall tube  12 pencils tall tube skulls  2009-12-05 00:00:00   \n",
       "\n",
       "   Quantity Variation Type       Variation Detail  Customisation Complexity  \\\n",
       "0        28  miscellaneous  miscellaneous: skulls                         1   \n",
       "1        25  miscellaneous  miscellaneous: skulls                         1   \n",
       "2        28  miscellaneous  miscellaneous: skulls                         1   \n",
       "3        79  miscellaneous  miscellaneous: skulls                         1   \n",
       "4        12  miscellaneous  miscellaneous: skulls                         1   \n",
       "\n",
       "  Material  Price         Country  \n",
       "0  polymer   0.85  United Kingdom  \n",
       "1  polymer   0.85  United Kingdom  \n",
       "2  polymer   0.85  United Kingdom  \n",
       "3  polymer   0.85  United Kingdom  \n",
       "4  polymer   0.85  United Kingdom  "
      ]
     },
     "execution_count": 7,
     "metadata": {},
     "output_type": "execute_result"
    }
   ],
   "source": [
    "result_df.head()"
   ]
  }
 ],
 "metadata": {
  "kernelspec": {
   "display_name": "Python 3",
   "language": "python",
   "name": "python3"
  },
  "language_info": {
   "codemirror_mode": {
    "name": "ipython",
    "version": 3
   },
   "file_extension": ".py",
   "mimetype": "text/x-python",
   "name": "python",
   "nbconvert_exporter": "python",
   "pygments_lexer": "ipython3",
   "version": "3.9.6"
  }
 },
 "nbformat": 4,
 "nbformat_minor": 2
}
